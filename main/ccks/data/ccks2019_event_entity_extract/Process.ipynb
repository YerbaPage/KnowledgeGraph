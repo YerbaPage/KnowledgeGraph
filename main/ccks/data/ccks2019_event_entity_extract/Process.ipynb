{
 "cells": [
  {
   "cell_type": "code",
   "execution_count": 1,
   "metadata": {},
   "outputs": [],
   "source": [
    "import pandas as pd\n",
    "import matplotlib.pyplot as plt\n",
    "import seaborn as sns\n",
    "import numpy as np"
   ]
  },
  {
   "cell_type": "code",
   "execution_count": 2,
   "metadata": {},
   "outputs": [],
   "source": [
    "df = pd.read_csv('event_type_entity_extract_train.csv', header=None)\n",
    "df.columns = ['index', 'content', 'label', 'entity']"
   ]
  },
  {
   "cell_type": "code",
   "execution_count": 3,
   "metadata": {},
   "outputs": [
    {
     "data": {
      "text/html": [
       "<div>\n",
       "<style scoped>\n",
       "    .dataframe tbody tr th:only-of-type {\n",
       "        vertical-align: middle;\n",
       "    }\n",
       "\n",
       "    .dataframe tbody tr th {\n",
       "        vertical-align: top;\n",
       "    }\n",
       "\n",
       "    .dataframe thead th {\n",
       "        text-align: right;\n",
       "    }\n",
       "</style>\n",
       "<table border=\"1\" class=\"dataframe\">\n",
       "  <thead>\n",
       "    <tr style=\"text-align: right;\">\n",
       "      <th></th>\n",
       "      <th>index</th>\n",
       "      <th>content</th>\n",
       "      <th>label</th>\n",
       "      <th>entity</th>\n",
       "    </tr>\n",
       "  </thead>\n",
       "  <tbody>\n",
       "    <tr>\n",
       "      <th>0</th>\n",
       "      <td>204199</td>\n",
       "      <td>股价连续涨停后大股东拟减持 双一科技涉嫌提前泄露未公开信息、炒作股价配合股东减持遭深交所问询...</td>\n",
       "      <td>资金账户风险</td>\n",
       "      <td>酒鬼酒</td>\n",
       "    </tr>\n",
       "    <tr>\n",
       "      <th>1</th>\n",
       "      <td>103453</td>\n",
       "      <td>在搜索引擎输入.尚赫”就可以发现多篇.尚赫涉嫌传销”.虚假宣传”.跨区经营”等各类媒体公开...</td>\n",
       "      <td>涉嫌欺诈</td>\n",
       "      <td>尚赫</td>\n",
       "    </tr>\n",
       "    <tr>\n",
       "      <th>2</th>\n",
       "      <td>206305</td>\n",
       "      <td>综艺股份:大兴服装拟减持公司不超2%股份科新机电(300092)上市后业绩变脸 实际控制人拟...</td>\n",
       "      <td>业绩下滑</td>\n",
       "      <td>科新机电</td>\n",
       "    </tr>\n",
       "    <tr>\n",
       "      <th>3</th>\n",
       "      <td>201979</td>\n",
       "      <td>四川双马(000935)待注资产再“缩水” 盈利预测下滑广电运通(002152)减持股份退出...</td>\n",
       "      <td>业绩下滑</td>\n",
       "      <td>四川双马</td>\n",
       "    </tr>\n",
       "    <tr>\n",
       "      <th>4</th>\n",
       "      <td>103106</td>\n",
       "      <td>宝象金融涉嫌自融，项目造假，请停止犯罪！?各人看到没有，信达金控没有一个字的介绍，又是一个套路</td>\n",
       "      <td>涉嫌欺诈</td>\n",
       "      <td>宝象金融</td>\n",
       "    </tr>\n",
       "    <tr>\n",
       "      <th>...</th>\n",
       "      <td>...</td>\n",
       "      <td>...</td>\n",
       "      <td>...</td>\n",
       "      <td>...</td>\n",
       "    </tr>\n",
       "    <tr>\n",
       "      <th>17810</th>\n",
       "      <td>101719</td>\n",
       "      <td>今年以来，包括杭州鼎家公寓、上海寓见公寓、北京昊园恒业、北京爱佳心仪等在内的多家长租公寓出...</td>\n",
       "      <td>失联跑路</td>\n",
       "      <td>上海寓见公寓</td>\n",
       "    </tr>\n",
       "    <tr>\n",
       "      <th>17811</th>\n",
       "      <td>200477</td>\n",
       "      <td>员工协助地方政府空气数据造假 先河环保遭深交所问询住维资金:“漏洞”“黑洞”如何解</td>\n",
       "      <td>财务造假</td>\n",
       "      <td>先河环保</td>\n",
       "    </tr>\n",
       "    <tr>\n",
       "      <th>17812</th>\n",
       "      <td>205050</td>\n",
       "      <td>高新发展(000628)董秘短线交易自家股票被处罚大江股份(600695)股东受让大股东减持...</td>\n",
       "      <td>交易违规</td>\n",
       "      <td>高新发展</td>\n",
       "    </tr>\n",
       "    <tr>\n",
       "      <th>17813</th>\n",
       "      <td>205514</td>\n",
       "      <td>厚能股份(835695)副总经理卜相楠辞职核心子公司停产隐瞒不报 贤成矿业(600381)涉...</td>\n",
       "      <td>信批违规</td>\n",
       "      <td>贤成矿业</td>\n",
       "    </tr>\n",
       "    <tr>\n",
       "      <th>17814</th>\n",
       "      <td>209358</td>\n",
       "      <td>承诺逾期一年多 一汽夏利因“失信”被提名黑榜上市公司远光软件(002063)启明星辰(002...</td>\n",
       "      <td>信批违规</td>\n",
       "      <td>大唐电信</td>\n",
       "    </tr>\n",
       "  </tbody>\n",
       "</table>\n",
       "<p>17815 rows × 4 columns</p>\n",
       "</div>"
      ],
      "text/plain": [
       "        index                                            content   label  \\\n",
       "0      204199  股价连续涨停后大股东拟减持 双一科技涉嫌提前泄露未公开信息、炒作股价配合股东减持遭深交所问询...  资金账户风险   \n",
       "1      103453   在搜索引擎输入.尚赫”就可以发现多篇.尚赫涉嫌传销”.虚假宣传”.跨区经营”等各类媒体公开...    涉嫌欺诈   \n",
       "2      206305  综艺股份:大兴服装拟减持公司不超2%股份科新机电(300092)上市后业绩变脸 实际控制人拟...    业绩下滑   \n",
       "3      201979  四川双马(000935)待注资产再“缩水” 盈利预测下滑广电运通(002152)减持股份退出...    业绩下滑   \n",
       "4      103106    宝象金融涉嫌自融，项目造假，请停止犯罪！?各人看到没有，信达金控没有一个字的介绍，又是一个套路    涉嫌欺诈   \n",
       "...       ...                                                ...     ...   \n",
       "17810  101719   今年以来，包括杭州鼎家公寓、上海寓见公寓、北京昊园恒业、北京爱佳心仪等在内的多家长租公寓出...    失联跑路   \n",
       "17811  200477          员工协助地方政府空气数据造假 先河环保遭深交所问询住维资金:“漏洞”“黑洞”如何解    财务造假   \n",
       "17812  205050  高新发展(000628)董秘短线交易自家股票被处罚大江股份(600695)股东受让大股东减持...    交易违规   \n",
       "17813  205514  厚能股份(835695)副总经理卜相楠辞职核心子公司停产隐瞒不报 贤成矿业(600381)涉...    信批违规   \n",
       "17814  209358  承诺逾期一年多 一汽夏利因“失信”被提名黑榜上市公司远光软件(002063)启明星辰(002...    信批违规   \n",
       "\n",
       "       entity  \n",
       "0         酒鬼酒  \n",
       "1          尚赫  \n",
       "2        科新机电  \n",
       "3        四川双马  \n",
       "4        宝象金融  \n",
       "...       ...  \n",
       "17810  上海寓见公寓  \n",
       "17811    先河环保  \n",
       "17812    高新发展  \n",
       "17813    贤成矿业  \n",
       "17814    大唐电信  \n",
       "\n",
       "[17815 rows x 4 columns]"
      ]
     },
     "execution_count": 3,
     "metadata": {},
     "output_type": "execute_result"
    }
   ],
   "source": [
    "df"
   ]
  },
  {
   "cell_type": "code",
   "execution_count": 8,
   "metadata": {},
   "outputs": [],
   "source": [
    "unique_labels = df['label'].unique()\n",
    "\n",
    "temp = {}\n",
    "for i in range(len(unique_labels)):\n",
    "    temp[unique_labels[i]] = i\n",
    "np.save('label2index.npy', temp)\n",
    "\n",
    "with open('class.txt', 'w') as f:\n",
    "    for i in range(len(unique_labels)):\n",
    "        f.write(str(i)+\"\\n\")"
   ]
  },
  {
   "cell_type": "code",
   "execution_count": 9,
   "metadata": {},
   "outputs": [],
   "source": [
    "data = df[['content', 'label']]\n",
    "# data.head"
   ]
  },
  {
   "cell_type": "code",
   "execution_count": 10,
   "metadata": {},
   "outputs": [
    {
     "name": "stderr",
     "output_type": "stream",
     "text": [
      "/opt/conda/lib/python3.7/site-packages/ipykernel_launcher.py:1: SettingWithCopyWarning: \n",
      "A value is trying to be set on a copy of a slice from a DataFrame.\n",
      "Try using .loc[row_indexer,col_indexer] = value instead\n",
      "\n",
      "See the caveats in the documentation: https://pandas.pydata.org/pandas-docs/stable/user_guide/indexing.html#returning-a-view-versus-a-copy\n",
      "  \"\"\"Entry point for launching an IPython kernel.\n"
     ]
    }
   ],
   "source": [
    "data['label'] = data['label'].replace(temp)"
   ]
  },
  {
   "cell_type": "code",
   "execution_count": 12,
   "metadata": {},
   "outputs": [],
   "source": [
    "length = int(data.shape[0] * 0.8)\n",
    "data[:length].to_csv('train.txt', sep='\\t', index=False, header=False)\n",
    "data[length:].to_csv('test.txt', sep='\\t', index=False, header=False)\n",
    "data[length:].to_csv('eval.txt', sep='\\t', index=False, header=False)"
   ]
  },
  {
   "cell_type": "code",
   "execution_count": null,
   "metadata": {},
   "outputs": [],
   "source": []
  }
 ],
 "metadata": {
  "kernelspec": {
   "display_name": "Python 3",
   "language": "python",
   "name": "python3"
  },
  "language_info": {
   "codemirror_mode": {
    "name": "ipython",
    "version": 3
   },
   "file_extension": ".py",
   "mimetype": "text/x-python",
   "name": "python",
   "nbconvert_exporter": "python",
   "pygments_lexer": "ipython3",
   "version": "3.7.7"
  }
 },
 "nbformat": 4,
 "nbformat_minor": 4
}
