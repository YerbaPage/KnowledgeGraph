{
 "cells": [
  {
   "cell_type": "markdown",
   "metadata": {},
   "source": [
    "需要先安装好`pytorch, transformers[torch]`"
   ]
  },
  {
   "cell_type": "code",
   "execution_count": 3,
   "metadata": {
    "_cell_guid": "79c7e3d0-c299-4dcb-8224-4455121ee9b0",
    "_uuid": "d629ff2d2480ee46fbb7e2d37f6b5fab8052498a"
   },
   "outputs": [],
   "source": [
    "import numpy as np\n",
    "import pandas as pd\n",
    "import matplotlib.pyplot as plt\n",
    "import seaborn as sns\n",
    "sns.set()\n",
    "\n",
    "from lxml import etree\n",
    "from sklearn.model_selection import train_test_split\n",
    "from sklearn.metrics import f1_score\n",
    "from tqdm import tqdm\n",
    "\n",
    "import torch\n",
    "import torch.nn as nn\n",
    "import torch.nn.functional as F"
   ]
  },
  {
   "cell_type": "code",
   "execution_count": 4,
   "metadata": {},
   "outputs": [
    {
     "name": "stderr",
     "output_type": "stream",
     "text": [
      "100%|██████████| 109540/109540 [00:00<00:00, 199949.46B/s]\n",
      "100%|██████████| 624/624 [00:00<00:00, 194359.55B/s]\n",
      "100%|██████████| 411577189/411577189 [00:34<00:00, 11802745.75B/s]\n"
     ]
    }
   ],
   "source": [
    "from pytorch_transformers import BertTokenizer, BertForSequenceClassification\n",
    "\n",
    "# 使用transformers的pytorch版本，下载预训练模型（或者提前下载配置）\n",
    "tokenizer = BertTokenizer.from_pretrained('bert-base-chinese')\n",
    "model = BertForSequenceClassification.from_pretrained('bert-base-chinese', num_labels=3)\n",
    "# BertForSequenceClassification 是一个基于BertModel的已经封装好可以直接使用的文本分类模型"
   ]
  },
  {
   "cell_type": "code",
   "execution_count": 5,
   "metadata": {},
   "outputs": [
    {
     "data": {
      "text/plain": [
       "[101, 2769, 4263, 1266, 776, 1921, 2128, 7305, 102]"
      ]
     },
     "execution_count": 5,
     "metadata": {},
     "output_type": "execute_result"
    }
   ],
   "source": [
    "# tokenizer 是把词标注成数字，[CLS] 101表示句子开始，[SEP] 102表示结束\n",
    "tokenizer.encode('我爱北京天安门', add_special_tokens=True)"
   ]
  },
  {
   "cell_type": "code",
   "execution_count": 6,
   "metadata": {},
   "outputs": [
    {
     "data": {
      "text/plain": [
       "0"
      ]
     },
     "execution_count": 6,
     "metadata": {},
     "output_type": "execute_result"
    }
   ],
   "source": [
    "# 0 用来表示无意义词的填充\n",
    "tokenizer.convert_tokens_to_ids(\"[PAD]\")"
   ]
  },
  {
   "cell_type": "markdown",
   "metadata": {},
   "source": [
    "### 数据的读入\n",
    "\n",
    "新闻标题的情感判别，消极2，积极1，中性0"
   ]
  },
  {
   "cell_type": "code",
   "execution_count": 7,
   "metadata": {},
   "outputs": [],
   "source": [
    "train = pd.read_excel('/kaggle/input/sentimental-analysis/TRAIN.xlsx', index_col=0)\n",
    "del train['content']"
   ]
  },
  {
   "cell_type": "code",
   "execution_count": 8,
   "metadata": {},
   "outputs": [
    {
     "data": {
      "text/html": [
       "<div>\n",
       "<style scoped>\n",
       "    .dataframe tbody tr th:only-of-type {\n",
       "        vertical-align: middle;\n",
       "    }\n",
       "\n",
       "    .dataframe tbody tr th {\n",
       "        vertical-align: top;\n",
       "    }\n",
       "\n",
       "    .dataframe thead th {\n",
       "        text-align: right;\n",
       "    }\n",
       "</style>\n",
       "<table border=\"1\" class=\"dataframe\">\n",
       "  <thead>\n",
       "    <tr style=\"text-align: right;\">\n",
       "      <th></th>\n",
       "      <th>texttitle</th>\n",
       "      <th>score</th>\n",
       "    </tr>\n",
       "    <tr>\n",
       "      <th>ID</th>\n",
       "      <th></th>\n",
       "      <th></th>\n",
       "    </tr>\n",
       "  </thead>\n",
       "  <tbody>\n",
       "    <tr>\n",
       "      <th>0</th>\n",
       "      <td>(深互动)*ST佳电：因受到证监会行政处罚，导致公司2017年度信息披露考核为D</td>\n",
       "      <td>2</td>\n",
       "    </tr>\n",
       "    <tr>\n",
       "      <th>1</th>\n",
       "      <td>彭博：中国华融据悉计划重组海外业务 以削减成本</td>\n",
       "      <td>2</td>\n",
       "    </tr>\n",
       "  </tbody>\n",
       "</table>\n",
       "</div>"
      ],
      "text/plain": [
       "                                   texttitle  score\n",
       "ID                                                 \n",
       "0   (深互动)*ST佳电：因受到证监会行政处罚，导致公司2017年度信息披露考核为D      2\n",
       "1                    彭博：中国华融据悉计划重组海外业务 以削减成本      2"
      ]
     },
     "execution_count": 8,
     "metadata": {},
     "output_type": "execute_result"
    }
   ],
   "source": [
    "train.head(2)"
   ]
  },
  {
   "cell_type": "code",
   "execution_count": 9,
   "metadata": {},
   "outputs": [
    {
     "data": {
      "text/plain": [
       "<matplotlib.axes._subplots.AxesSubplot at 0x7f7e94094090>"
      ]
     },
     "execution_count": 9,
     "metadata": {},
     "output_type": "execute_result"
    },
    {
     "data": {
      "image/png": "[encoded data removed]",
      "text/plain": [
       "<Figure size 432x288 with 1 Axes>"
      ]
     },
     "metadata": {},
     "output_type": "display_data"
    }
   ],
   "source": [
    "sns.countplot(train.score)"
   ]
  },
  {
   "cell_type": "code",
   "execution_count": 10,
   "metadata": {},
   "outputs": [
    {
     "name": "stdout",
     "output_type": "stream",
     "text": [
      "72\n"
     ]
    }
   ],
   "source": [
    "a = [torch.tensor(\n",
    "    tokenizer.encode(title, add_special_tokens=True)) \n",
    "     for title in train['texttitle']]\n",
    "maxlen = max(len(_) for _ in a); print(maxlen)"
   ]
  },
  {
   "cell_type": "code",
   "execution_count": 11,
   "metadata": {},
   "outputs": [],
   "source": [
    "# 用 0 来做 padding\n",
    "inputs = torch.stack(\n",
    "    [torch.cat([t, torch.full(size=(maxlen - len(t), ), fill_value=0, dtype=torch.int64)])\n",
    "     for t in a])"
   ]
  },
  {
   "cell_type": "code",
   "execution_count": 12,
   "metadata": {},
   "outputs": [],
   "source": [
    "labels = torch.tensor(train['score'].values, dtype=torch.int64).unsqueeze(1)"
   ]
  },
  {
   "cell_type": "code",
   "execution_count": 13,
   "metadata": {},
   "outputs": [
    {
     "data": {
      "text/plain": [
       "(torch.Size([22063, 72]), torch.Size([22063, 1]))"
      ]
     },
     "execution_count": 13,
     "metadata": {},
     "output_type": "execute_result"
    }
   ],
   "source": [
    "inputs.shape, labels.shape"
   ]
  },
  {
   "cell_type": "markdown",
   "metadata": {},
   "source": [
    "这里的`inputs`其实就是模型的输入，相当于只是把一句话的每个词编码之后加上句首和句尾的标记而已。"
   ]
  },
  {
   "cell_type": "markdown",
   "metadata": {},
   "source": [
    "### 划分训练集和验证集"
   ]
  },
  {
   "cell_type": "code",
   "execution_count": 14,
   "metadata": {},
   "outputs": [],
   "source": [
    "tx, vx, ty, vy = train_test_split(inputs, labels, random_state=2020, test_size=0.2)\n",
    "ty_ = ty.numpy().squeeze()\n",
    "vy_ = vy.numpy().squeeze()\n",
    "\n",
    "# 使用gpu来训练\n",
    "tx = tx.cuda()\n",
    "vx = vx.cuda()\n",
    "ty = ty.cuda()\n",
    "vy = vy.cuda()"
   ]
  },
  {
   "cell_type": "code",
   "execution_count": 15,
   "metadata": {},
   "outputs": [],
   "source": [
    "# 构建dataloader\n",
    "train_set = torch.utils.data.TensorDataset(tx, ty)\n",
    "val_set = torch.utils.data.TensorDataset(vx, vy)\n",
    "\n",
    "train_loader = torch.utils.data.DataLoader(train_set, batch_size=32, shuffle=True)\n",
    "val_loader = torch.utils.data.DataLoader(val_set, batch_size=32, shuffle=False)"
   ]
  },
  {
   "cell_type": "code",
   "execution_count": 16,
   "metadata": {},
   "outputs": [],
   "source": [
    "optimizer = torch.optim.Adam(model.parameters(), lr=3e-6)\n",
    "_ = model.cuda()"
   ]
  },
  {
   "cell_type": "markdown",
   "metadata": {},
   "source": [
    "### 模型的训练和评估"
   ]
  },
  {
   "cell_type": "code",
   "execution_count": 17,
   "metadata": {},
   "outputs": [],
   "source": [
    "def model_train():\n",
    "    model.train()\n",
    "    ans = []\n",
    "    for x, y in tqdm(train_loader):\n",
    "        out = model(input_ids=x, labels=y)\n",
    "        # 将input_ids和标签输入之后直接就能得到loss和结果(logits)\n",
    "        # 这时候直接对loss进行反向传播就可以了！\n",
    "        loss, logits = out[:2]\n",
    "        ans.append(torch.argmax(logits, dim=1))  # logits 分别给出了每篇文本分成这三类的概率\n",
    "        optimizer.zero_grad()\n",
    "        loss.backward()\n",
    "        optimizer.step()\n",
    "    ans = torch.cat(ans).cpu().numpy()\n",
    "    acc = np.mean(ans == ty_)\n",
    "    print(f'训练集上准确率: {acc}')\n",
    "    return ans"
   ]
  },
  {
   "cell_type": "code",
   "execution_count": 18,
   "metadata": {},
   "outputs": [],
   "source": [
    "@torch.no_grad()\n",
    "def model_eval():\n",
    "    model.eval()\n",
    "    ans = []\n",
    "    for x, y in val_loader:\n",
    "        out = model(input_ids=x)\n",
    "        ans.append(torch.argmax(out[0], dim=1))\n",
    "    ans = torch.cat(ans).cpu().numpy()\n",
    "    acc = np.mean(ans == vy_)\n",
    "    print(f'验证集上准确率: {acc}')\n",
    "    return ans"
   ]
  },
  {
   "cell_type": "code",
   "execution_count": null,
   "metadata": {},
   "outputs": [
    {
     "name": "stderr",
     "output_type": "stream",
     "text": [
      "100%|██████████| 552/552 [02:14<00:00,  4.11it/s]\n"
     ]
    },
    {
     "name": "stdout",
     "output_type": "stream",
     "text": [
      "训练集上准确率: 0.5264022662889518\n"
     ]
    },
    {
     "name": "stderr",
     "output_type": "stream",
     "text": [
      "  0%|          | 0/552 [00:00<?, ?it/s]"
     ]
    },
    {
     "name": "stdout",
     "output_type": "stream",
     "text": [
      "验证集上准确率: 0.7935644686154544\n"
     ]
    },
    {
     "name": "stderr",
     "output_type": "stream",
     "text": [
      "100%|██████████| 552/552 [02:12<00:00,  4.16it/s]\n"
     ]
    },
    {
     "name": "stdout",
     "output_type": "stream",
     "text": [
      "训练集上准确率: 0.486628895184136\n"
     ]
    },
    {
     "name": "stderr",
     "output_type": "stream",
     "text": [
      "  0%|          | 0/552 [00:00<?, ?it/s]"
     ]
    },
    {
     "name": "stdout",
     "output_type": "stream",
     "text": [
      "验证集上准确率: 0.8037616134149105\n"
     ]
    },
    {
     "name": "stderr",
     "output_type": "stream",
     "text": [
      " 85%|████████▍ | 468/552 [01:52<00:20,  4.20it/s]"
     ]
    }
   ],
   "source": [
    "for epoch in range(3):\n",
    "    model_train()\n",
    "    model_eval()"
   ]
  },
  {
   "cell_type": "markdown",
   "metadata": {},
   "source": [
    "最后这个cell没有显示清楚，虽然训练集上效果不好，但是验证集上效果好啊。\n",
    "这里只是简单的用了一下BertForSequenceClassification.\n",
    "（事实上，这里的金融新闻人工来分都很难分对。）"
   ]
  }
 ],
 "metadata": {
  "kernelspec": {
   "display_name": "Python 3",
   "language": "python",
   "name": "python3"
  },
  "language_info": {
   "codemirror_mode": {
    "name": "ipython",
    "version": 3
   },
   "file_extension": ".py",
   "mimetype": "text/x-python",
   "name": "python",
   "nbconvert_exporter": "python",
   "pygments_lexer": "ipython3",
   "version": "3.7.3"
  }
 },
 "nbformat": 4,
 "nbformat_minor": 4
}
